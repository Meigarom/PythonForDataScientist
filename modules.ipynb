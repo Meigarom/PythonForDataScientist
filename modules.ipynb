{
 "cells": [
  {
   "cell_type": "code",
   "execution_count": 1,
   "metadata": {
    "ExecuteTime": {
     "end_time": "2020-05-02T18:05:41.863529Z",
     "start_time": "2020-05-02T18:05:41.860392Z"
    }
   },
   "outputs": [],
   "source": [
    "#Módulo 01 - Começando em Python\n",
    "#Video 01 - Diferenças entre Python para Data Science e para Desenvolvimento de Sistemas\n",
    "#Video 02 - Instalando Python no Mac\n",
    "#Video 03 - Instalando Python no Windows\n",
    "#Video 04 - Instalando Python no Linux"
   ]
  },
  {
   "cell_type": "code",
   "execution_count": 2,
   "metadata": {
    "ExecuteTime": {
     "end_time": "2020-05-02T18:06:29.644275Z",
     "start_time": "2020-05-02T18:06:29.639817Z"
    }
   },
   "outputs": [],
   "source": [
    "#Modulo 03 - As Estruturas de Dados em Python\n",
    "#Video 01 - Dataframe, List, Dicionário, Json, Series, \n",
    "#Video 02 - Formato dos Dados ( Num, Objct, Date, Pickle )\n",
    "#Video 03 - Transformação dos Formatos dos Dados"
   ]
  },
  {
   "cell_type": "markdown",
   "metadata": {},
   "source": [
    "# Modulo 03 - As Estruturas de Dados em Python"
   ]
  },
  {
   "cell_type": "markdown",
   "metadata": {},
   "source": [
    "## Vídeo 01 - Tipos Mais Comuns de Estruturas de Dados"
   ]
  },
  {
   "cell_type": "code",
   "execution_count": 49,
   "metadata": {
    "ExecuteTime": {
     "end_time": "2020-05-02T18:37:07.691623Z",
     "start_time": "2020-05-02T18:37:07.686811Z"
    }
   },
   "outputs": [],
   "source": [
    "import pandas as pd\n",
    "import json"
   ]
  },
  {
   "cell_type": "code",
   "execution_count": 8,
   "metadata": {
    "ExecuteTime": {
     "end_time": "2020-05-02T18:12:07.990392Z",
     "start_time": "2020-05-02T18:12:07.855865Z"
    }
   },
   "outputs": [
    {
     "name": "stdout",
     "output_type": "stream",
     "text": [
      "total 246408\r\n",
      "-rw-rw-r--@ 1 meigarom  staff   9033957 Oct  6  2019 olist_customers_dataset.csv\r\n",
      "-rw-rw-r--@ 1 meigarom  staff  61273883 Oct  6  2019 olist_geolocation_dataset.csv\r\n",
      "-rw-rw-r--@ 1 meigarom  staff  15438671 Oct  6  2019 olist_order_items_dataset.csv\r\n",
      "-rw-rw-r--@ 1 meigarom  staff   5777138 Oct  6  2019 olist_order_payments_dataset.csv\r\n",
      "-rw-rw-r--@ 1 meigarom  staff  14409007 Oct  6  2019 olist_order_reviews_dataset.csv\r\n",
      "-rw-rw-r--@ 1 meigarom  staff  17654914 Oct  6  2019 olist_orders_dataset.csv\r\n",
      "-rw-rw-r--@ 1 meigarom  staff   2379446 Oct  6  2019 olist_products_dataset.csv\r\n",
      "-rw-rw-r--@ 1 meigarom  staff    174703 Oct  6  2019 olist_sellers_dataset.csv\r\n",
      "-rw-rw-r--@ 1 meigarom  staff      2613 Oct  6  2019 product_category_name_translation.csv\r\n"
     ]
    }
   ],
   "source": [
    "!ls -l ../SejaUmDataScientist/brazilian-ecommerce"
   ]
  },
  {
   "cell_type": "markdown",
   "metadata": {},
   "source": [
    "### Dataframe"
   ]
  },
  {
   "cell_type": "code",
   "execution_count": 82,
   "metadata": {
    "ExecuteTime": {
     "end_time": "2020-05-02T18:46:07.705975Z",
     "start_time": "2020-05-02T18:46:07.366570Z"
    }
   },
   "outputs": [],
   "source": [
    "df_raw = pd.read_csv( '../SejaUmDataScientist/brazilian-ecommerce/olist_order_reviews_dataset.csv' )"
   ]
  },
  {
   "cell_type": "code",
   "execution_count": 83,
   "metadata": {
    "ExecuteTime": {
     "end_time": "2020-05-02T18:46:07.730628Z",
     "start_time": "2020-05-02T18:46:07.709052Z"
    }
   },
   "outputs": [
    {
     "data": {
      "text/html": [
       "<div>\n",
       "<style scoped>\n",
       "    .dataframe tbody tr th:only-of-type {\n",
       "        vertical-align: middle;\n",
       "    }\n",
       "\n",
       "    .dataframe tbody tr th {\n",
       "        vertical-align: top;\n",
       "    }\n",
       "\n",
       "    .dataframe thead th {\n",
       "        text-align: right;\n",
       "    }\n",
       "</style>\n",
       "<table border=\"1\" class=\"dataframe\">\n",
       "  <thead>\n",
       "    <tr style=\"text-align: right;\">\n",
       "      <th></th>\n",
       "      <th>review_id</th>\n",
       "      <th>order_id</th>\n",
       "      <th>review_score</th>\n",
       "      <th>review_comment_title</th>\n",
       "      <th>review_comment_message</th>\n",
       "      <th>review_creation_date</th>\n",
       "      <th>review_answer_timestamp</th>\n",
       "    </tr>\n",
       "  </thead>\n",
       "  <tbody>\n",
       "    <tr>\n",
       "      <th>0</th>\n",
       "      <td>7bc2406110b926393aa56f80a40eba40</td>\n",
       "      <td>73fc7af87114b39712e6da79b0a377eb</td>\n",
       "      <td>4</td>\n",
       "      <td>NaN</td>\n",
       "      <td>NaN</td>\n",
       "      <td>2018-01-18 00:00:00</td>\n",
       "      <td>2018-01-18 21:46:59</td>\n",
       "    </tr>\n",
       "    <tr>\n",
       "      <th>1</th>\n",
       "      <td>80e641a11e56f04c1ad469d5645fdfde</td>\n",
       "      <td>a548910a1c6147796b98fdf73dbeba33</td>\n",
       "      <td>5</td>\n",
       "      <td>NaN</td>\n",
       "      <td>NaN</td>\n",
       "      <td>2018-03-10 00:00:00</td>\n",
       "      <td>2018-03-11 03:05:13</td>\n",
       "    </tr>\n",
       "    <tr>\n",
       "      <th>2</th>\n",
       "      <td>228ce5500dc1d8e020d8d1322874b6f0</td>\n",
       "      <td>f9e4b658b201a9f2ecdecbb34bed034b</td>\n",
       "      <td>5</td>\n",
       "      <td>NaN</td>\n",
       "      <td>NaN</td>\n",
       "      <td>2018-02-17 00:00:00</td>\n",
       "      <td>2018-02-18 14:36:24</td>\n",
       "    </tr>\n",
       "    <tr>\n",
       "      <th>3</th>\n",
       "      <td>e64fb393e7b32834bb789ff8bb30750e</td>\n",
       "      <td>658677c97b385a9be170737859d3511b</td>\n",
       "      <td>5</td>\n",
       "      <td>NaN</td>\n",
       "      <td>Recebi bem antes do prazo estipulado.</td>\n",
       "      <td>2017-04-21 00:00:00</td>\n",
       "      <td>2017-04-21 22:02:06</td>\n",
       "    </tr>\n",
       "    <tr>\n",
       "      <th>4</th>\n",
       "      <td>f7c4243c7fe1938f181bec41a392bdeb</td>\n",
       "      <td>8e6bfb81e283fa7e4f11123a3fb894f1</td>\n",
       "      <td>5</td>\n",
       "      <td>NaN</td>\n",
       "      <td>Parabéns lojas lannister adorei comprar pela I...</td>\n",
       "      <td>2018-03-01 00:00:00</td>\n",
       "      <td>2018-03-02 10:26:53</td>\n",
       "    </tr>\n",
       "  </tbody>\n",
       "</table>\n",
       "</div>"
      ],
      "text/plain": [
       "                          review_id                          order_id  \\\n",
       "0  7bc2406110b926393aa56f80a40eba40  73fc7af87114b39712e6da79b0a377eb   \n",
       "1  80e641a11e56f04c1ad469d5645fdfde  a548910a1c6147796b98fdf73dbeba33   \n",
       "2  228ce5500dc1d8e020d8d1322874b6f0  f9e4b658b201a9f2ecdecbb34bed034b   \n",
       "3  e64fb393e7b32834bb789ff8bb30750e  658677c97b385a9be170737859d3511b   \n",
       "4  f7c4243c7fe1938f181bec41a392bdeb  8e6bfb81e283fa7e4f11123a3fb894f1   \n",
       "\n",
       "   review_score review_comment_title  \\\n",
       "0             4                  NaN   \n",
       "1             5                  NaN   \n",
       "2             5                  NaN   \n",
       "3             5                  NaN   \n",
       "4             5                  NaN   \n",
       "\n",
       "                              review_comment_message review_creation_date  \\\n",
       "0                                                NaN  2018-01-18 00:00:00   \n",
       "1                                                NaN  2018-03-10 00:00:00   \n",
       "2                                                NaN  2018-02-17 00:00:00   \n",
       "3              Recebi bem antes do prazo estipulado.  2017-04-21 00:00:00   \n",
       "4  Parabéns lojas lannister adorei comprar pela I...  2018-03-01 00:00:00   \n",
       "\n",
       "  review_answer_timestamp  \n",
       "0     2018-01-18 21:46:59  \n",
       "1     2018-03-11 03:05:13  \n",
       "2     2018-02-18 14:36:24  \n",
       "3     2017-04-21 22:02:06  \n",
       "4     2018-03-02 10:26:53  "
      ]
     },
     "execution_count": 83,
     "metadata": {},
     "output_type": "execute_result"
    }
   ],
   "source": [
    "df_raw.head()"
   ]
  },
  {
   "cell_type": "code",
   "execution_count": 53,
   "metadata": {
    "ExecuteTime": {
     "end_time": "2020-05-02T18:39:12.082390Z",
     "start_time": "2020-05-02T18:39:12.074786Z"
    }
   },
   "outputs": [
    {
     "data": {
      "text/plain": [
       "(112650, 7)"
      ]
     },
     "execution_count": 53,
     "metadata": {},
     "output_type": "execute_result"
    }
   ],
   "source": [
    "# Commands\n",
    "df_raw.shape"
   ]
  },
  {
   "cell_type": "markdown",
   "metadata": {},
   "source": [
    "### List"
   ]
  },
  {
   "cell_type": "code",
   "execution_count": 18,
   "metadata": {
    "ExecuteTime": {
     "end_time": "2020-05-02T18:17:35.784720Z",
     "start_time": "2020-05-02T18:17:35.779528Z"
    }
   },
   "outputs": [],
   "source": [
    "# unique type\n",
    "l1 = ['banana', 'pera', 'uva']\n",
    "\n",
    "# multiple type\n",
    "l2 = ['banana', 'pera', 'uva', 3, 4, 2, 1]"
   ]
  },
  {
   "cell_type": "markdown",
   "metadata": {},
   "source": [
    "#### Example: "
   ]
  },
  {
   "cell_type": "code",
   "execution_count": 31,
   "metadata": {
    "ExecuteTime": {
     "end_time": "2020-05-02T18:23:14.466336Z",
     "start_time": "2020-05-02T18:23:14.461436Z"
    }
   },
   "outputs": [],
   "source": [
    "def metrics( df ):\n",
    "    return df['price'].sample()"
   ]
  },
  {
   "cell_type": "code",
   "execution_count": 39,
   "metadata": {
    "ExecuteTime": {
     "end_time": "2020-05-02T18:23:47.669112Z",
     "start_time": "2020-05-02T18:23:47.637516Z"
    }
   },
   "outputs": [],
   "source": [
    "# Example\n",
    "s_list = []\n",
    "for i in range( 0, 5 ):\n",
    "    s = metrics( df1 )\n",
    "    s_list.append( s.values[0] )"
   ]
  },
  {
   "cell_type": "code",
   "execution_count": 40,
   "metadata": {
    "ExecuteTime": {
     "end_time": "2020-05-02T18:23:48.470669Z",
     "start_time": "2020-05-02T18:23:48.463464Z"
    }
   },
   "outputs": [
    {
     "data": {
      "text/plain": [
       "[49.0, 27.99, 100.0, 19.9, 9.9]"
      ]
     },
     "execution_count": 40,
     "metadata": {},
     "output_type": "execute_result"
    }
   ],
   "source": [
    "s_list"
   ]
  },
  {
   "cell_type": "markdown",
   "metadata": {},
   "source": [
    "### Dictionary"
   ]
  },
  {
   "cell_type": "code",
   "execution_count": null,
   "metadata": {},
   "outputs": [],
   "source": [
    "d = {'key': valor}"
   ]
  },
  {
   "cell_type": "markdown",
   "metadata": {},
   "source": [
    "#### Example: "
   ]
  },
  {
   "cell_type": "code",
   "execution_count": null,
   "metadata": {
    "ExecuteTime": {
     "end_time": "2020-05-02T18:45:43.497836Z",
     "start_time": "2020-05-02T18:45:43.485793Z"
    }
   },
   "outputs": [],
   "source": [
    "df_raw['product_category_name'].drop_duplicates()"
   ]
  },
  {
   "cell_type": "code",
   "execution_count": 95,
   "metadata": {
    "ExecuteTime": {
     "end_time": "2020-05-02T18:59:37.863408Z",
     "start_time": "2020-05-02T18:59:37.820976Z"
    }
   },
   "outputs": [
    {
     "data": {
      "text/plain": [
       "'{\"Key1\": [1, 2, 3], \"Key2\": [4, 5, 6]}'"
      ]
     },
     "execution_count": 95,
     "metadata": {},
     "output_type": "execute_result"
    }
   ],
   "source": [
    "# Construir DataFrames\n",
    "data = {'nome': 'Meigarom', 'sobrenome': 'Lopes', 'tempo_de_experiencia': 4}\n",
    "df = pd.DataFrame( data, index=[0] )\n",
    "\n",
    "# Substituir valores\n",
    "df2 = df_raw[['review_id', 'review_score']]\n",
    "rep = { 1: 'One Star', 2: 'Two Stars', 3: 'Three Stars', 4: 'Four Stars', 5:'Five Start' }\n",
    "\n",
    "df2.loc[:,'review_score'] = df2.loc[:,'review_score'].map( rep )\n",
    "\n",
    "# Construir Json\n",
    "d = {'Key1': [1,2,3], 'Key2': [4,5,6] }\n",
    "json.dumps( d )"
   ]
  },
  {
   "cell_type": "markdown",
   "metadata": {},
   "source": [
    "### Pickle"
   ]
  },
  {
   "cell_type": "code",
   "execution_count": null,
   "metadata": {},
   "outputs": [],
   "source": []
  },
  {
   "cell_type": "markdown",
   "metadata": {},
   "source": [
    "## Vídeo 02 - Os Formatos de Dados"
   ]
  },
  {
   "cell_type": "code",
   "execution_count": 96,
   "metadata": {
    "ExecuteTime": {
     "end_time": "2020-05-02T19:04:13.938034Z",
     "start_time": "2020-05-02T19:04:13.935552Z"
    }
   },
   "outputs": [],
   "source": [
    "# Numerico   - Int e Float\n",
    "# Categorico - Object\n",
    "# Data       - Date"
   ]
  },
  {
   "cell_type": "code",
   "execution_count": null,
   "metadata": {},
   "outputs": [],
   "source": []
  }
 ],
 "metadata": {
  "kernelspec": {
   "display_name": "Python 3",
   "language": "python",
   "name": "python3"
  },
  "language_info": {
   "codemirror_mode": {
    "name": "ipython",
    "version": 3
   },
   "file_extension": ".py",
   "mimetype": "text/x-python",
   "name": "python",
   "nbconvert_exporter": "python",
   "pygments_lexer": "ipython3",
   "version": "3.8.0"
  }
 },
 "nbformat": 4,
 "nbformat_minor": 4
}
